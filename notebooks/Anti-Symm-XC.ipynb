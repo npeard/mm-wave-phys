{
 "cells": [
  {
   "cell_type": "code",
   "execution_count": null,
   "id": "initial_id",
   "metadata": {},
   "outputs": [],
   "source": [
    "import sys\n",
    "sys.path.append('../')\n",
    "%load_ext autotime"
   ]
  },
  {
   "cell_type": "code",
   "execution_count": null,
   "id": "6e07b45c69af9542",
   "metadata": {},
   "outputs": [],
   "source": [
    "from models.spin_chain import LatticeGraph, DiagonEngine\n",
    "import numpy as np"
   ]
  },
  {
   "cell_type": "code",
   "execution_count": null,
   "id": "2e107ecabdebc172",
   "metadata": {},
   "outputs": [],
   "source": [
    "def DM_z_period4(t, i):\n",
    "    phase = np.pi / 2 * (i % 4)\n",
    "    if t == \"+DM\":\n",
    "        return phase\n",
    "    elif t == \"-DM\":\n",
    "        return -phase\n",
    "    else:\n",
    "        return 0\n",
    "\n",
    "def XY_z_period4(t, i):\n",
    "    phase = np.pi - 3. * np.pi / 2 * (i % 4)\n",
    "    if t == \"+XY\":\n",
    "        return phase\n",
    "    elif t == \"-XY\":\n",
    "        return -phase\n",
    "    else:\n",
    "        return 0\n",
    "\n",
    "def native(t, i, j):\n",
    "    if t in [\"+DM\", \"-DM\", \"+XY\", \"-XY\"]:\n",
    "        return 0\n",
    "    else:\n",
    "        return 0.5"
   ]
  },
  {
   "cell_type": "code",
   "execution_count": null,
   "id": "4c3d6244a4805359",
   "metadata": {},
   "outputs": [],
   "source": [
    "XY_terms = [['XX', native, 'nn'], ['yy', native, 'nn'],\n",
    "             ['z', DM_z_period4, np.inf], ['z', XY_z_period4, np.inf]]\n",
    "XY_graph = LatticeGraph.from_interactions(4, XY_terms)"
   ]
  },
  {
   "cell_type": "code",
   "execution_count": null,
   "id": "636ab1535332f66f",
   "metadata": {},
   "outputs": [],
   "source": [
    "DM_terms = [['xy', 0.5, 'nn'], ['yx', -0.5, 'nn']]\n",
    "DM_graph = LatticeGraph.from_interactions(4, DM_terms)"
   ]
  },
  {
   "cell_type": "code",
   "execution_count": null,
   "id": "40026b3a2a0f2158",
   "metadata": {},
   "outputs": [],
   "source": [
    "computation = DiagonEngine(XY_graph)\n",
    "# H = computation.quspin_hamiltonian(\"-DM\", a = 4)\n",
    "# print(H)"
   ]
  },
  {
   "cell_type": "code",
   "execution_count": null,
   "id": "307f84e45da63a38",
   "metadata": {},
   "outputs": [],
   "source": [
    "tD = 0\n",
    "tJ = 1\n",
    "tmJ = 1\n",
    "paramList = [\"nat\", \"+DM\", \"nat\", \"+XY\", \"nat\", \"-XY\", \"nat\", \"-DM\", \"nat\"]\n",
    "dtList = [tJ, 0, tD, 0, 2 * tmJ, 0, tD, 0, tJ]"
   ]
  },
  {
   "cell_type": "code",
   "execution_count": null,
   "id": "2522b1780512debf",
   "metadata": {},
   "outputs": [],
   "source": [
    "HF, UF = computation.get_quspin_floquet_hamiltonian(paramList, dtList)\n",
    "# print(HF)\n",
    "H_XY = computation.get_quspin_hamiltonian(0)\n",
    "XY_fidelity = computation.hilbert_schmidt_fidelity(HF, H_XY)\n",
    "H_DM = DiagonEngine(DM_graph).get_quspin_hamiltonian(0)\n",
    "DM_fidelity = computation.hilbert_schmidt_fidelity(HF, H_DM)\n",
    "print(\"XY fidelity:\", XY_fidelity,\n",
    "      \"DM fidelity:\", DM_fidelity)\n"
   ]
  },
  {
   "cell_type": "code",
   "execution_count": null,
   "id": "3a4717ced92d064e",
   "metadata": {},
   "outputs": [],
   "source": []
  }
 ],
 "metadata": {
  "language_info": {
   "name": "python"
  }
 },
 "nbformat": 4,
 "nbformat_minor": 5
}
