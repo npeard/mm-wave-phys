{
 "cells": [
  {
   "cell_type": "code",
   "id": "initial_id",
   "metadata": {
    "ExecuteTime": {
     "end_time": "2024-12-04T23:17:10.122673Z",
     "start_time": "2024-12-04T23:17:10.115035Z"
    }
   },
   "source": [
    "import sys\n",
    "sys.path.append('../../')\n",
    "%load_ext autotime"
   ],
   "outputs": [
    {
     "name": "stdout",
     "output_type": "stream",
     "text": [
      "time: 89.4 µs (started: 2024-12-04 15:17:10 -08:00)\n"
     ]
    }
   ],
   "execution_count": 1
  },
  {
   "cell_type": "markdown",
   "id": "29069ebb-2ed7-4324-819f-a2dfd70b0a1f",
   "metadata": {},
   "source": [
    "# Introduction\n",
    "In this notebook, we are numerically calculating the average Hamiltonian produced by the pulse scheme proposed in [1] to mix a native XY Heisenberg Hamiltonian (symmetric exchange) into a new XY Hamiltonian with anti-symmetric exchange (the z-component of the DM interaction).\n",
    "\n",
    "\n",
    "1. Nishad, N., Keselman, A., Lahaye, T., Browaeys, A. & Tsesses, S. Quantum simulation of generic spin-exchange models in Floquet-engineered Rydberg-atom arrays. Phys. Rev. A 108, 053318 (2023).\n"
   ]
  },
  {
   "cell_type": "code",
   "id": "6e07b45c69af9542",
   "metadata": {
    "ExecuteTime": {
     "end_time": "2024-12-04T23:17:13.782018Z",
     "start_time": "2024-12-04T23:17:12.476664Z"
    }
   },
   "source": [
    "from models.spin_chain import LatticeGraph, DiagonEngine\n",
    "import numpy as np\n",
    "from scipy.linalg import expm\n",
    "from __future__ import annotations"
   ],
   "outputs": [
    {
     "name": "stdout",
     "output_type": "stream",
     "text": [
      "time: 1.3 s (started: 2024-12-04 15:17:12 -08:00)\n"
     ]
    }
   ],
   "execution_count": 2
  },
  {
   "cell_type": "markdown",
   "id": "cbaf2c8e-51d2-427b-bd66-7c6fa63669f9",
   "metadata": {},
   "source": [
    "# Local Rotations\n",
    "This paper uses local rotations in a size 4 unit cell (PBC, a ring of atoms L = 4N). Figure 2 in the paper has a good illustration. There are two basic pulses that rotate different sites with different amounts of phase to turn on/off the positive/negative DM/XY interactions. The evolution times between the local phase rotations determine the nature (mostly XY or mostly DM) of the average Hamiltonian in one cycle.\n",
    "\n",
    "For now, we want to ignore the effect of finite pulse durations, so these functions return a total phase of rotation (an integrated delta function pulse) rather than a frequency/energy to be integrated over a finite time. We define another function that turns off the native Hamiltonian during these phase rotations (delta function pulses)."
   ]
  },
  {
   "cell_type": "code",
   "execution_count": 15,
   "id": "2e107ecabdebc172",
   "metadata": {
    "ExecuteTime": {
     "end_time": "2024-12-04T21:43:15.482436Z",
     "start_time": "2024-12-04T21:43:15.477220Z"
    }
   },
   "outputs": [
    {
     "name": "stdout",
     "output_type": "stream",
     "text": [
      "time: 755 µs (started: 2024-12-04 15:02:45 -08:00)\n"
     ]
    }
   ],
   "source": [
    "def DM_z_period4(t, i):\n",
    "    phase = np.pi / 2 * (i % 4)\n",
    "    if t == \"+DM\":\n",
    "        return phase/2\n",
    "    elif t == \"-DM\":\n",
    "        return -phase/2\n",
    "    else:\n",
    "        return 0\n",
    "\n",
    "def XY_z_period4(t, i):\n",
    "    phase = np.pi - 3. * np.pi / 2 * (i % 4)\n",
    "    if t == \"+XY\":\n",
    "        return phase/2\n",
    "    elif t == \"-XY\":\n",
    "        return -phase/2\n",
    "    else:\n",
    "        return 0\n",
    "\n",
    "def native(t, i, j):\n",
    "    if t in [\"+DM\", \"-DM\", \"+XY\", \"-XY\"]:\n",
    "        return 0\n",
    "    else:\n",
    "        return J/2"
   ]
  },
  {
   "cell_type": "markdown",
   "id": "28477ef7-d721-4b3f-ba60-8cf2e40a8e32",
   "metadata": {},
   "source": [
    "# Define the Hamiltonian\n",
    "This is simply a list of terms in the (parametrized) Hamiltonian we want to numerically evolve in time. The first entry of each term is the operator as a string. The second element is the \"strength\" of the interaction, which here is parametrized by pulse type (as above) to make a piece-wise defined Hamiltonian (though one could consider defining a time-continuous parametrization, and we might do this later). The last element is the \"connectivity\" or \"range\" of the interactions defined either by a specific string or an inverse range value (alpha = 3 would be dipolar range, alpha = np.inf is an on-site interaction).\n",
    "\n",
    "Here we initially consider the smallest system this pulse scheme allows, 4 atoms in a ring."
   ]
  },
  {
   "cell_type": "code",
   "execution_count": 16,
   "id": "4c3d6244a4805359",
   "metadata": {
    "ExecuteTime": {
     "end_time": "2024-12-04T21:43:15.496700Z",
     "start_time": "2024-12-04T21:43:15.492255Z"
    }
   },
   "outputs": [
    {
     "name": "stdout",
     "output_type": "stream",
     "text": [
      "time: 468 µs (started: 2024-12-04 15:02:45 -08:00)\n"
     ]
    }
   ],
   "source": [
    "XY_terms = [['XX', native, 'nn'], ['yy', native, 'nn'],\n",
    "             ['z', DM_z_period4, np.inf], ['z', XY_z_period4, np.inf]]\n",
    "XY_graph = LatticeGraph.from_interactions(4, XY_terms)"
   ]
  },
  {
   "cell_type": "markdown",
   "id": "7eec1b0f-7417-45c9-b6c6-d3d4f6a4c68c",
   "metadata": {},
   "source": [
    "## Define the Pulse Sequence\n",
    "Here, the timing of the pulse sequence is defined. The paramList selects which pulses we want from our parametrization above, and dtList defines how long each of those pieces is evolved in time. Delta pulses act for zero time, so the only time evolution that happens in this example are the \"free-evolution\" times under the native Hamiltonian."
   ]
  },
  {
   "cell_type": "code",
   "execution_count": 58,
   "id": "307f84e45da63a38",
   "metadata": {
    "ExecuteTime": {
     "end_time": "2024-12-04T21:43:15.519539Z",
     "start_time": "2024-12-04T21:43:15.515330Z"
    }
   },
   "outputs": [
    {
     "name": "stdout",
     "output_type": "stream",
     "text": [
      "time: 649 µs (started: 2024-12-04 15:08:06 -08:00)\n"
     ]
    }
   ],
   "source": [
    "tD = 1000e-9\n",
    "tJ = 100e-9\n",
    "tmJ = tJ\n",
    "J = 10\n",
    "paramList = [\"nat\", \"+DM\", \"nat\", \"+XY\", \"nat\", \"-XY\", \"nat\", \"-DM\", \"nat\"]\n",
    "dtList = [tJ, 0, tD, 0, 2 * tmJ, 0, tD, 0, tJ]"
   ]
  },
  {
   "cell_type": "markdown",
   "id": "91e6966e-3b61-4289-9079-1a0d63be5221",
   "metadata": {},
   "source": [
    "This is our target Hamiltonian."
   ]
  },
  {
   "cell_type": "code",
   "execution_count": 59,
   "id": "636ab1535332f66f",
   "metadata": {
    "ExecuteTime": {
     "end_time": "2024-12-04T21:43:15.537827Z",
     "start_time": "2024-12-04T21:43:15.534593Z"
    }
   },
   "outputs": [
    {
     "name": "stdout",
     "output_type": "stream",
     "text": [
      "time: 520 µs (started: 2024-12-04 15:08:06 -08:00)\n"
     ]
    }
   ],
   "source": [
    "DM_terms = [['xy', J/2, 'nn'], ['yx', -J/2, 'nn']]\n",
    "DM_graph = LatticeGraph.from_interactions(4, DM_terms)"
   ]
  },
  {
   "cell_type": "markdown",
   "id": "1877686e-34cd-4f74-ac8f-46e86319a53e",
   "metadata": {},
   "source": [
    "Under the hood, we use QuSpin to perform the time-evolution and calculate the Floquet/Average Hamiltonian. We compute the Hilbert-Schmidt overlap of the relevant Hamiltonians."
   ]
  },
  {
   "cell_type": "code",
   "execution_count": 60,
   "id": "2522b1780512debf",
   "metadata": {
    "ExecuteTime": {
     "end_time": "2024-12-04T21:43:16.361564Z",
     "start_time": "2024-12-04T21:43:15.611277Z"
    }
   },
   "outputs": [
    {
     "name": "stdout",
     "output_type": "stream",
     "text": [
      "XY fidelity: 7.395231532409541e-13\n",
      "DM fidelity: 0.9999999999999998\n",
      "time: 203 ms (started: 2024-12-04 15:08:06 -08:00)\n"
     ]
    }
   ],
   "source": [
    "computation = DiagonEngine(XY_graph, unit_cell_length=4)\n",
    "HF = computation.get_quspin_floquet_hamiltonian(paramList, dtList)\n",
    "# print(HF)\n",
    "H_XY = computation.get_quspin_hamiltonian(0)\n",
    "XY_fidelity = computation.frobenius_norm(HF, H_XY)\n",
    "H_DM = DiagonEngine(DM_graph, unit_cell_length=4).get_quspin_hamiltonian(0)\n",
    "DM_fidelity = computation.frobenius_norm(HF, H_DM)\n",
    "print(\"XY fidelity:\", XY_fidelity)\n",
    "print(\"DM fidelity:\", DM_fidelity)"
   ]
  },
  {
   "cell_type": "markdown",
   "id": "d156edf8-094b-48a5-aa47-dd37f5085623",
   "metadata": {},
   "source": [
    "We can compute another type of fidelity metric (used in the referenced paper) that approaches zero as the unitary evolution computed from the Hamiltonians approach perfect overlap. It is a much more sensitive measure of overlap than the Hilbert-Schmidt overlap we've defined above. This is probably a better metric for numerical optimization of the pulse sequence and therefore likely why it was the metric of choice in the reference paper."
   ]
  },
  {
   "cell_type": "code",
   "execution_count": 61,
   "id": "63851f7a-d940-4466-89ac-5560ce9fcb7f",
   "metadata": {},
   "outputs": [
    {
     "name": "stdout",
     "output_type": "stream",
     "text": [
      "XY loss: 5.412825061945986\n",
      "DM loss: 2.8233139193352743\n",
      "time: 4.6 ms (started: 2024-12-04 15:08:06 -08:00)\n"
     ]
    }
   ],
   "source": [
    "T = sum(dtList) # the Floquet period\n",
    "DM_norm_loss = computation.norm_identity_loss(HF, H_DM)\n",
    "XY_norm_loss = computation.norm_identity_loss(HF, H_XY)\n",
    "print(\"XY loss:\", XY_norm_loss)\n",
    "print(\"DM loss:\", DM_norm_loss)"
   ]
  },
  {
   "cell_type": "markdown",
   "id": "1bbd979e-7954-4cf1-b389-2c0a0aae0fb4",
   "metadata": {},
   "source": [
    "How should we think about the triangle of norm losses between each of the three Hamiltonians"
   ]
  },
  {
   "cell_type": "code",
   "execution_count": 63,
   "id": "3a4717ced92d064e",
   "metadata": {
    "ExecuteTime": {
     "end_time": "2024-12-04T21:43:16.463037Z",
     "start_time": "2024-12-04T21:43:16.458944Z"
    }
   },
   "outputs": [
    {
     "name": "stdout",
     "output_type": "stream",
     "text": [
      "cross fidelity (should be 0): 0.0\n",
      "norm loss (should be large): 5.046810082550314\n",
      "time: 3.48 ms (started: 2024-12-04 15:11:08 -08:00)\n"
     ]
    }
   ],
   "source": [
    "cross_fidelity = computation.frobenius_norm(H_DM, H_XY)\n",
    "print(\"cross fidelity (should be 0):\", cross_fidelity)\n",
    "cross_norm_loss = computation.norm_identity_loss(H_DM, H_XY)\n",
    "print(\"norm loss (should be large):\", cross_norm_loss)"
   ]
  },
  {
   "metadata": {},
   "cell_type": "markdown",
   "source": "# Open Chain DM Exchange",
   "id": "1c73f04e60558bdc"
  },
  {
   "metadata": {},
   "cell_type": "code",
   "outputs": [],
   "execution_count": null,
   "source": "",
   "id": "4ca7567c6f1b9dc0"
  }
 ],
 "metadata": {
  "kernelspec": {
   "display_name": "Python 3 (ipykernel)",
   "language": "python",
   "name": "python3"
  },
  "language_info": {
   "codemirror_mode": {
    "name": "ipython",
    "version": 3
   },
   "file_extension": ".py",
   "mimetype": "text/x-python",
   "name": "python",
   "nbconvert_exporter": "python",
   "pygments_lexer": "ipython3",
   "version": "3.12.3"
  }
 },
 "nbformat": 4,
 "nbformat_minor": 5
}
