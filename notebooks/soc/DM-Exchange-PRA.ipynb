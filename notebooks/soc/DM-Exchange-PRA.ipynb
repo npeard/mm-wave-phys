{
 "cells": [
  {
   "cell_type": "code",
   "execution_count": 85,
   "id": "initial_id",
   "metadata": {
    "ExecuteTime": {
     "end_time": "2024-12-04T23:17:10.122673Z",
     "start_time": "2024-12-04T23:17:10.115035Z"
    }
   },
   "outputs": [
    {
     "name": "stdout",
     "output_type": "stream",
     "text": [
      "The autotime extension is already loaded. To reload it, use:\n",
      "  %reload_ext autotime\n",
      "time: 1.02 ms (started: 2024-12-09 17:33:15 -08:00)\n"
     ]
    }
   ],
   "source": [
    "import sys\n",
    "sys.path.append('../../')\n",
    "%load_ext autotime"
   ]
  },
  {
   "cell_type": "markdown",
   "id": "29069ebb-2ed7-4324-819f-a2dfd70b0a1f",
   "metadata": {},
   "source": [
    "# Introduction\n",
    "In this notebook, we are numerically calculating the average Hamiltonian produced by the pulse scheme proposed in [1] to mix a native XY Heisenberg Hamiltonian (symmetric exchange) into a new XY Hamiltonian with anti-symmetric exchange (the z-component of the DM interaction).\n",
    "\n",
    "\n",
    "1. Nishad, N., Keselman, A., Lahaye, T., Browaeys, A. & Tsesses, S. Quantum simulation of generic spin-exchange models in Floquet-engineered Rydberg-atom arrays. Phys. Rev. A 108, 053318 (2023).\n"
   ]
  },
  {
   "cell_type": "code",
   "execution_count": 86,
   "id": "6e07b45c69af9542",
   "metadata": {
    "ExecuteTime": {
     "end_time": "2024-12-04T23:17:13.782018Z",
     "start_time": "2024-12-04T23:17:12.476664Z"
    }
   },
   "outputs": [
    {
     "name": "stdout",
     "output_type": "stream",
     "text": [
      "time: 552 µs (started: 2024-12-09 17:33:15 -08:00)\n"
     ]
    }
   ],
   "source": [
    "from models.spin_chain import LatticeGraph, DiagonEngine\n",
    "import numpy as np\n",
    "from scipy.linalg import expm\n",
    "from __future__ import annotations"
   ]
  },
  {
   "cell_type": "markdown",
   "id": "cbaf2c8e-51d2-427b-bd66-7c6fa63669f9",
   "metadata": {},
   "source": [
    "# Local Rotations\n",
    "This paper uses local rotations in a size 4 unit cell (PBC, a ring of atoms L = 4N). Figure 2 in the paper has a good illustration. There are two basic pulses that rotate different sites with different amounts of phase to turn on/off the positive/negative DM/XY interactions. The evolution times between the local phase rotations determine the nature (mostly XY or mostly DM) of the average Hamiltonian in one cycle.\n",
    "\n",
    "For now, we want to ignore the effect of finite pulse durations, so these functions return a total phase of rotation (an integrated delta function pulse) rather than a frequency/energy to be integrated over a finite time. We define another function that turns off the native Hamiltonian during these phase rotations (delta function pulses)."
   ]
  },
  {
   "cell_type": "code",
   "execution_count": 87,
   "id": "2e107ecabdebc172",
   "metadata": {
    "ExecuteTime": {
     "end_time": "2024-12-04T21:43:15.482436Z",
     "start_time": "2024-12-04T21:43:15.477220Z"
    }
   },
   "outputs": [
    {
     "name": "stdout",
     "output_type": "stream",
     "text": [
      "time: 765 µs (started: 2024-12-09 17:33:15 -08:00)\n"
     ]
    }
   ],
   "source": [
    "def DM_z_period4(t, i):\n",
    "    phase = np.pi / 2 * (i % 4)\n",
    "    if t == \"+DM\":\n",
    "        return phase/2\n",
    "    elif t == \"-DM\":\n",
    "        return -phase/2\n",
    "    else:\n",
    "        return 0\n",
    "\n",
    "def XY_z_period4(t, i):\n",
    "    phase = np.pi - 3. * np.pi / 2 * (i % 4)\n",
    "    if t == \"+XY\":\n",
    "        return phase/2\n",
    "    elif t == \"-XY\":\n",
    "        return -phase/2\n",
    "    else:\n",
    "        return 0\n",
    "\n",
    "def native(t, i, j):\n",
    "    if t in [\"+DM\", \"-DM\", \"+XY\", \"-XY\"]:\n",
    "        return 0\n",
    "    else:\n",
    "        return J/2"
   ]
  },
  {
   "cell_type": "markdown",
   "id": "28477ef7-d721-4b3f-ba60-8cf2e40a8e32",
   "metadata": {},
   "source": [
    "# Define the Hamiltonian\n",
    "This is simply a list of terms in the (parametrized) Hamiltonian we want to numerically evolve in time. The first entry of each term is the operator as a string. The second element is the \"strength\" of the interaction, which here is parametrized by pulse type (as above) to make a piece-wise defined Hamiltonian (though one could consider defining a time-continuous parametrization, and we might do this later). The last element is the \"connectivity\" or \"range\" of the interactions defined either by a specific string or an inverse range value (alpha = 3 would be dipolar range, alpha = np.inf is an on-site interaction).\n",
    "\n",
    "Here we initially consider the smallest system this pulse scheme allows, 4 atoms in a ring."
   ]
  },
  {
   "cell_type": "code",
   "execution_count": 88,
   "id": "4c3d6244a4805359",
   "metadata": {
    "ExecuteTime": {
     "end_time": "2024-12-04T21:43:15.496700Z",
     "start_time": "2024-12-04T21:43:15.492255Z"
    }
   },
   "outputs": [
    {
     "name": "stdout",
     "output_type": "stream",
     "text": [
      "time: 623 µs (started: 2024-12-09 17:33:15 -08:00)\n"
     ]
    }
   ],
   "source": [
    "XY_terms = [['XX', native, 'nn'], ['yy', native, 'nn'],\n",
    "             ['z', DM_z_period4, np.inf], ['z', XY_z_period4, np.inf]]\n",
    "XY_graph = LatticeGraph.from_interactions(8, XY_terms, pbc=True)"
   ]
  },
  {
   "cell_type": "markdown",
   "id": "7eec1b0f-7417-45c9-b6c6-d3d4f6a4c68c",
   "metadata": {},
   "source": [
    "## Define the Pulse Sequence\n",
    "Here, the timing of the pulse sequence is defined. The paramList selects which pulses we want from our parametrization above, and dtList defines how long each of those pieces is evolved in time. Delta pulses act for zero time, so the only time evolution that happens in this example are the \"free-evolution\" times under the native Hamiltonian."
   ]
  },
  {
   "cell_type": "code",
   "execution_count": 89,
   "id": "307f84e45da63a38",
   "metadata": {
    "ExecuteTime": {
     "end_time": "2024-12-04T21:43:15.519539Z",
     "start_time": "2024-12-04T21:43:15.515330Z"
    }
   },
   "outputs": [
    {
     "name": "stdout",
     "output_type": "stream",
     "text": [
      "time: 547 µs (started: 2024-12-09 17:33:15 -08:00)\n"
     ]
    }
   ],
   "source": [
    "tD = 100e-9\n",
    "tJ = 10e-9\n",
    "tmJ = tJ\n",
    "J = 10\n",
    "paramList = [\"nat\", \"+DM\", \"nat\", \"+XY\", \"nat\", \"-XY\", \"nat\", \"-DM\", \"nat\"]\n",
    "dtList = [tJ, 0, tD, 0, 2 * tmJ, 0, tD, 0, tJ]"
   ]
  },
  {
   "cell_type": "markdown",
   "id": "91e6966e-3b61-4289-9079-1a0d63be5221",
   "metadata": {},
   "source": [
    "This is our target Hamiltonian."
   ]
  },
  {
   "cell_type": "code",
   "execution_count": 90,
   "id": "636ab1535332f66f",
   "metadata": {
    "ExecuteTime": {
     "end_time": "2024-12-04T21:43:15.537827Z",
     "start_time": "2024-12-04T21:43:15.534593Z"
    }
   },
   "outputs": [
    {
     "name": "stdout",
     "output_type": "stream",
     "text": [
      "time: 428 µs (started: 2024-12-09 17:33:15 -08:00)\n"
     ]
    }
   ],
   "source": [
    "DM_terms = [['xy', 1/2, 'nn'], ['yx', -1/2, 'nn']]\n",
    "DM_graph = LatticeGraph.from_interactions(8, DM_terms, pbc=True)"
   ]
  },
  {
   "cell_type": "markdown",
   "id": "1877686e-34cd-4f74-ac8f-46e86319a53e",
   "metadata": {},
   "source": [
    "Under the hood, we use QuSpin to perform the time-evolution and calculate the Floquet/Average Hamiltonian. We compute the Hilbert-Schmidt overlap of the relevant Hamiltonians."
   ]
  },
  {
   "cell_type": "code",
   "execution_count": 91,
   "id": "2522b1780512debf",
   "metadata": {
    "ExecuteTime": {
     "end_time": "2024-12-04T21:43:16.361564Z",
     "start_time": "2024-12-04T21:43:15.611277Z"
    }
   },
   "outputs": [
    {
     "name": "stdout",
     "output_type": "stream",
     "text": [
      "XY Frobenius loss: 0.99999556543913\n",
      "DM Frobenius loss: 0.0\n",
      "time: 3.7 s (started: 2024-12-09 17:33:15 -08:00)\n"
     ]
    }
   ],
   "source": [
    "computation = DiagonEngine(XY_graph, unit_cell_length=4)\n",
    "HF = computation.get_quspin_floquet_hamiltonian(paramList, dtList)\n",
    "# print(HF)\n",
    "H_XY = computation.get_quspin_hamiltonian(0)/J\n",
    "XY_frobenius_loss = computation.frobenius_loss(HF, H_XY)\n",
    "H_DM = DiagonEngine(DM_graph, unit_cell_length=4).get_quspin_hamiltonian(0)\n",
    "DM_frobenius_loss = computation.frobenius_loss(HF, H_DM)\n",
    "print(\"XY Frobenius loss:\", XY_frobenius_loss)\n",
    "print(\"DM Frobenius loss:\", DM_frobenius_loss)"
   ]
  },
  {
   "cell_type": "markdown",
   "id": "d156edf8-094b-48a5-aa47-dd37f5085623",
   "metadata": {},
   "source": [
    "We can compute another type of fidelity metric (used in the referenced paper) that approaches zero as the unitary evolution computed from the Hamiltonians approach perfect overlap. It is a much more sensitive measure of overlap than the Hilbert-Schmidt overlap we've defined above. This is probably a better metric for numerical optimization of the pulse sequence and therefore likely why it was the metric of choice in the reference paper."
   ]
  },
  {
   "cell_type": "code",
   "execution_count": 92,
   "id": "63851f7a-d940-4466-89ac-5560ce9fcb7f",
   "metadata": {},
   "outputs": [
    {
     "name": "stdout",
     "output_type": "stream",
     "text": [
      "XY loss: 21.15128818710378\n",
      "DM loss: 16.1871195134009\n",
      "time: 132 ms (started: 2024-12-09 17:33:19 -08:00)\n"
     ]
    }
   ],
   "source": [
    "T = sum(dtList) # the Floquet period\n",
    "DM_norm_loss = computation.norm_identity_loss(HF, H_DM)\n",
    "XY_norm_loss = computation.norm_identity_loss(HF, H_XY)\n",
    "print(\"XY loss:\", XY_norm_loss)\n",
    "print(\"DM loss:\", DM_norm_loss)"
   ]
  },
  {
   "cell_type": "markdown",
   "id": "1bbd979e-7954-4cf1-b389-2c0a0aae0fb4",
   "metadata": {},
   "source": [
    "How should we think about the triangle of norm losses between each of the three Hamiltonians"
   ]
  },
  {
   "cell_type": "code",
   "execution_count": 93,
   "id": "3a4717ced92d064e",
   "metadata": {
    "ExecuteTime": {
     "end_time": "2024-12-04T21:43:16.463037Z",
     "start_time": "2024-12-04T21:43:16.458944Z"
    }
   },
   "outputs": [
    {
     "name": "stdout",
     "output_type": "stream",
     "text": [
      "cross Frobenius loss (should be 1): 1.0\n",
      "norm loss (should be large): 22.25245618715209\n",
      "time: 82.5 ms (started: 2024-12-09 17:33:19 -08:00)\n"
     ]
    }
   ],
   "source": [
    "cross_frobenius_loss = computation.frobenius_loss(H_DM, H_XY)\n",
    "print(\"cross Frobenius loss (should be 1):\", cross_frobenius_loss)\n",
    "cross_norm_loss = computation.norm_identity_loss(H_DM, H_XY)\n",
    "print(\"norm loss (should be large):\", cross_norm_loss)"
   ]
  },
  {
   "cell_type": "markdown",
   "id": "7472e2934b5cdd2b",
   "metadata": {},
   "source": [
    "# Open Chain DM Exchange"
   ]
  },
  {
   "cell_type": "code",
   "execution_count": 124,
   "id": "173f21a5-db66-4c2a-acca-66a7eef1f742",
   "metadata": {},
   "outputs": [
    {
     "name": "stdout",
     "output_type": "stream",
     "text": [
      "time: 872 µs (started: 2024-12-09 17:35:01 -08:00)\n"
     ]
    }
   ],
   "source": [
    "def DM_z_period2(t, i):\n",
    "    phase = np.pi/2 * (i % 2)\n",
    "    if t == \"+DM\":\n",
    "        return phase/2\n",
    "    elif t == \"-DM\":\n",
    "        return -phase/2\n",
    "    else:\n",
    "        return 0\n",
    "\n",
    "def XY_z_period2(t, i):\n",
    "    phase = np.pi/2 * ((i+1) % 2)\n",
    "    if t == \"+XY\":\n",
    "        return phase/2\n",
    "    elif t == \"-XY\":\n",
    "        return -phase/2\n",
    "    else:\n",
    "        return 0\n",
    "\n",
    "def native(t, i, j):\n",
    "    if t in [\"+DM\", \"-DM\", \"+XY\", \"-XY\"]:\n",
    "        return 0\n",
    "    else:\n",
    "        return J/2"
   ]
  },
  {
   "cell_type": "code",
   "execution_count": 125,
   "id": "4ca7567c6f1b9dc0",
   "metadata": {},
   "outputs": [
    {
     "name": "stdout",
     "output_type": "stream",
     "text": [
      "time: 444 µs (started: 2024-12-09 17:35:01 -08:00)\n"
     ]
    }
   ],
   "source": [
    "XY_terms = [['XX', native, 'nn'], ['yy', native, 'nn'],\n",
    "             ['z', DM_z_period4, np.inf], ['z', XY_z_period4, np.inf]]\n",
    "XY_graph = LatticeGraph.from_interactions(4, XY_terms)"
   ]
  },
  {
   "cell_type": "code",
   "execution_count": 126,
   "id": "c487cca5-4727-4b14-a224-28d03b0bda62",
   "metadata": {},
   "outputs": [
    {
     "name": "stdout",
     "output_type": "stream",
     "text": [
      "time: 427 µs (started: 2024-12-09 17:35:01 -08:00)\n"
     ]
    }
   ],
   "source": [
    "DM_terms = [['xy', 1/2, 'nn'], ['yx', -1/2, 'nn']]\n",
    "DM_graph = LatticeGraph.from_interactions(4, DM_terms)"
   ]
  },
  {
   "cell_type": "code",
   "execution_count": 127,
   "id": "cefd5455-7000-47d0-b689-5ea9427edfb5",
   "metadata": {},
   "outputs": [
    {
     "name": "stdout",
     "output_type": "stream",
     "text": [
      "time: 481 µs (started: 2024-12-09 17:35:01 -08:00)\n"
     ]
    }
   ],
   "source": [
    "tD = 100e-9\n",
    "tJ = 10e-9\n",
    "tmJ = tJ\n",
    "J = 1000\n",
    "paramList = [\"nat\", \"+DM\", \"nat\", \"+XY\", \"nat\", \"-XY\", \"nat\", \"-DM\", \"nat\"]\n",
    "dtList = [tJ, 0, tD, 0, 2 * tmJ, 0, tD, 0, tJ]"
   ]
  },
  {
   "cell_type": "code",
   "execution_count": 128,
   "id": "99806bc9-f6b1-4417-a060-4a0541c38d63",
   "metadata": {},
   "outputs": [
    {
     "name": "stdout",
     "output_type": "stream",
     "text": [
      "XY loss: 5.560097930912807\n",
      "DM loss: 2.696477576742332\n",
      "time: 202 ms (started: 2024-12-09 17:35:02 -08:00)\n"
     ]
    }
   ],
   "source": [
    "computation = DiagonEngine(XY_graph, unit_cell_length=2)\n",
    "HF = computation.get_quspin_floquet_hamiltonian(paramList, dtList)\n",
    "# print(HF)\n",
    "H_XY = computation.get_quspin_hamiltonian(0)/J\n",
    "H_DM = DiagonEngine(DM_graph, unit_cell_length=2).get_quspin_hamiltonian(0)\n",
    "DM_norm_loss = computation.norm_identity_loss(HF, H_DM)\n",
    "XY_norm_loss = computation.norm_identity_loss(HF, H_XY)\n",
    "print(\"XY loss:\", XY_norm_loss)\n",
    "print(\"DM loss:\", DM_norm_loss)"
   ]
  },
  {
   "cell_type": "code",
   "execution_count": 129,
   "id": "59d6b79d-4528-40cf-acd0-8ded929fdeb9",
   "metadata": {},
   "outputs": [
    {
     "name": "stdout",
     "output_type": "stream",
     "text": [
      "XY Frobenius loss: 0.999974179634162\n",
      "DM Frobenius loss: 0.0\n",
      "time: 2.82 ms (started: 2024-12-09 17:35:30 -08:00)\n"
     ]
    }
   ],
   "source": [
    "XY_frobenius_loss = computation.frobenius_loss(HF, H_XY)\n",
    "DM_frobenius_loss = computation.frobenius_loss(HF, H_DM)\n",
    "print(\"XY Frobenius loss:\", XY_frobenius_loss)\n",
    "print(\"DM Frobenius loss:\", DM_frobenius_loss)"
   ]
  },
  {
   "cell_type": "code",
   "execution_count": 130,
   "id": "2d2de9c5-058a-46f7-8d83-90e07feb5a98",
   "metadata": {},
   "outputs": [
    {
     "name": "stdout",
     "output_type": "stream",
     "text": [
      "static mat: \n",
      "<Compressed Sparse Row sparse matrix of dtype 'complex128'\n",
      "\twith 24 stored elements and shape (16, 16)>\n",
      "  Coords\tValues\n",
      "  (1, 2)\t1j\n",
      "  (2, 1)\t-1j\n",
      "  (2, 4)\t1j\n",
      "  (3, 5)\t1j\n",
      "  (4, 2)\t-1j\n",
      "  (4, 8)\t1j\n",
      "  (5, 3)\t-1j\n",
      "  (5, 6)\t1j\n",
      "  (5, 9)\t1j\n",
      "  (6, 5)\t-1j\n",
      "  (6, 10)\t1j\n",
      "  (7, 11)\t1j\n",
      "  (8, 4)\t-1j\n",
      "  (9, 5)\t-1j\n",
      "  (9, 10)\t1j\n",
      "  (10, 6)\t-1j\n",
      "  (10, 9)\t-1j\n",
      "  (10, 12)\t1j\n",
      "  (11, 7)\t-1j\n",
      "  (11, 13)\t1j\n",
      "  (12, 10)\t-1j\n",
      "  (13, 11)\t-1j\n",
      "  (13, 14)\t1j\n",
      "  (14, 13)\t-1j\n",
      "\n",
      "\n",
      "dynamic:\n",
      "\n",
      "time: 956 µs (started: 2024-12-09 17:35:48 -08:00)\n"
     ]
    }
   ],
   "source": [
    "print(H_DM)"
   ]
  },
  {
   "cell_type": "code",
   "execution_count": 136,
   "id": "a02e7d76-8c97-4202-be43-2a9ca3bd996f",
   "metadata": {},
   "outputs": [
    {
     "name": "stdout",
     "output_type": "stream",
     "text": [
      "<Compressed Sparse Row sparse matrix of dtype 'complex128'\n",
      "\twith 24 stored elements and shape (16, 16)>\n",
      "  Coords\tValues\n",
      "  (1, 2)\t(-0-1j)\n",
      "  (2, 1)\t(-0+1j)\n",
      "  (2, 4)\t-1j\n",
      "  (3, 5)\t(-0-1j)\n",
      "  (4, 2)\t(-0+1j)\n",
      "  (4, 8)\t(-0-1j)\n",
      "  (5, 3)\t1j\n",
      "  (5, 6)\t(-0-1j)\n",
      "  (5, 9)\t(-0-1j)\n",
      "  (6, 5)\t(-0+1j)\n",
      "  (6, 10)\t(-0-1j)\n",
      "  (7, 11)\t(-0-1j)\n",
      "  (8, 4)\t(-0+1j)\n",
      "  (9, 5)\t(-0+1j)\n",
      "  (9, 10)\t(-0-1j)\n",
      "  (10, 6)\t(-0+1j)\n",
      "  (10, 9)\t(-0+1j)\n",
      "  (10, 12)\t(-0-1j)\n",
      "  (11, 7)\t(-0+1j)\n",
      "  (11, 13)\t-1j\n",
      "  (12, 10)\t(-0+1j)\n",
      "  (13, 11)\t(-0+1j)\n",
      "  (13, 14)\t(-0-1j)\n",
      "  (14, 13)\t(-0+1j)\n",
      "time: 1.11 ms (started: 2024-12-09 17:39:40 -08:00)\n"
     ]
    }
   ],
   "source": [
    "from scipy import sparse\n",
    "print(sparse.csr_matrix(np.rint(HF/J)))"
   ]
  },
  {
   "cell_type": "code",
   "execution_count": null,
   "id": "195c2ef7-5fd6-43ac-b6f3-e81c544e1135",
   "metadata": {},
   "outputs": [],
   "source": []
  }
 ],
 "metadata": {
  "kernelspec": {
   "display_name": "Python 3 (ipykernel)",
   "language": "python",
   "name": "python3"
  },
  "language_info": {
   "codemirror_mode": {
    "name": "ipython",
    "version": 3
   },
   "file_extension": ".py",
   "mimetype": "text/x-python",
   "name": "python",
   "nbconvert_exporter": "python",
   "pygments_lexer": "ipython3",
   "version": "3.12.3"
  }
 },
 "nbformat": 4,
 "nbformat_minor": 5
}
