{
 "cells": [
  {
   "cell_type": "code",
   "execution_count": 1,
   "metadata": {},
   "outputs": [],
   "source": [
    "import sys\n",
    "sys.path.append('../')\n",
    "import numpy as np\n",
    "from models.ac_stark import ACStarkShift as ac_stark\n",
    "import arc as arc\n",
    "%load_ext autoreload\n",
    "%autoreload 2"
   ]
  },
  {
   "cell_type": "markdown",
   "metadata": {},
   "source": [
    "Example to calculate trapping potential using , $I = \\frac{2P}{\\pi w_0^2}$ gives the intensity of the optical trap, using the Eq 9.46 in Atomic Physcis (Foot) $$U_{dipole} = \\frac{\\hbar \\Gamma}{8}\\frac{\\Gamma}{\\delta}\\frac{I}{I_{sat}}$$ in the condition of far detuned wavelength (method = \"far detuned\"). The Eq. 10 in arXiv:physics/9902072v1 [physics.atom-ph] 24 Feb 1999 descripe the near detuned case (method = \"near detuned\") $$\n",
    "U_{dip} = \\frac{3\\pi c^2}{2\\omega_0^3}(\\frac{\\Gamma}{\\omega -\\omega_0}+\\frac{\\Gamma}{\\omega +\\omega_0})I(r) =  \\frac{\\hbar \\Gamma}{8}\\Gamma(\\frac{1}{\\omega -\\omega_0}+\\frac{1}{\\omega +\\omega_0})\\frac{I}{I_{sat}}$$\n",
    "\n",
    "A more complete form is to sum over all hyperfine splitting include both D1 and D2 line, which needs more understanding of Monika's code (or find the correct reference)"
   ]
  },
  {
   "cell_type": "code",
   "execution_count": 6,
   "metadata": {},
   "outputs": [
    {
     "name": "stdout",
     "output_type": "stream",
     "text": [
      "====far detuned====\n",
      "D2 λ = 852.3352020119227 nm\n",
      "U0 = -7.458871956157601e-28 J\n",
      "Isat ratio = 2.310150675379049*10^7\n",
      "T = 54.024389661366506 μK\n",
      "f = -1.1256856307441299 MHz\n",
      "zR = 7.381561686066242 mm\n",
      "radial trap frequency 2π x 0.37010142037025395 kHz, axial trap frequency 2π x 0.0017726684081268214 kHz\n",
      "mass = 2.206946951453701e-25 kg\n",
      "I_sat = 11.023 W/m^2\n",
      "detuning ratio = 1.3397545532905413*10^7\n",
      "====near detuned====\n",
      "D2 λ = 852.3352020119227 nm\n",
      "U0 = -8.282726062767709e-28 J\n",
      "Isat ratio = 2.310150675379049*10^7\n",
      "T = 59.991540665061926 μK\n",
      "f = -1.2500208834595132 MHz\n",
      "zR = 7.381561686066242 mm\n",
      "radial trap frequency 2π x 0.3900055837673097 kHz, axial trap frequency 2π x 0.0018680030372370177 kHz\n",
      "mass = 2.206946951453701e-25 kg\n",
      "I_sat = 11.023 W/m^2\n",
      "detuning ratio = 1.3397545532905413*10^7\n"
     ]
    },
    {
     "data": {
      "text/plain": [
       "(-8.282726062767709e-28,\n",
       " 5.9991540665061924e-05,\n",
       " -1250020.8834595133,\n",
       " 0.007381561686066242,\n",
       " 2450.477353644758,\n",
       " 11.73700923733447)"
      ]
     },
     "execution_count": 6,
     "metadata": {},
     "output_type": "execute_result"
    }
   ],
   "source": [
    "atom = arc.Cesium()\n",
    "w0 = 50e-6 # mimnum waist\n",
    "P = 1 #2.5e-3 # power\n",
    "\n",
    "lamda_laser = 1064e-9 # tweezer wavelength\n",
    "excited_state_f = 5 # Hyper fine F' = 5\n",
    "\n",
    "ac = ac_stark()\n",
    "print(\"====far detuned====\")\n",
    "ac.dipole_trap_parameters(atom, w0, P, lamda_laser, q = 1, method = \"far detuned\", excited_state_f = excited_state_f, debug = True)\n",
    "print(\"====near detuned====\")\n",
    "ac.dipole_trap_parameters(atom, w0, P, lamda_laser, q = 1, method = \"near detuned\", excited_state_f = excited_state_f, debug = True)\n"
   ]
  },
  {
   "cell_type": "code",
   "execution_count": null,
   "metadata": {},
   "outputs": [],
   "source": []
  }
 ],
 "metadata": {
  "kernelspec": {
   "display_name": "base",
   "language": "python",
   "name": "python3"
  },
  "language_info": {
   "codemirror_mode": {
    "name": "ipython",
    "version": 3
   },
   "file_extension": ".py",
   "mimetype": "text/x-python",
   "name": "python",
   "nbconvert_exporter": "python",
   "pygments_lexer": "ipython3",
   "version": "3.11.4"
  }
 },
 "nbformat": 4,
 "nbformat_minor": 2
}
